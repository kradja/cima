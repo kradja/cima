{
 "cells": [
  {
   "cell_type": "code",
   "execution_count": 80,
   "metadata": {},
   "outputs": [],
   "source": [
    "import pandas as pd\n",
    "import pyarrow as pa\n",
    "from pathlib import Path\n",
    "from matplotlib import pyplot as plt\n",
    "import seaborn as sns\n",
    "from scipy.stats import ranksums, ttest_ind\n",
    "import umap\n",
    "from sklearn.preprocessing import StandardScaler\n",
    "import numpy as np"
   ]
  },
  {
   "cell_type": "code",
   "execution_count": 81,
   "metadata": {},
   "outputs": [],
   "source": [
    "data = Path(\"./\").resolve().parent / \"data\"\n",
    "concat_breast = data / \"concat_breast_df_patient.pkl\"\n",
    "concat_lung= data / \"concat_lung_df_patient.pkl\"\n",
    "til_breast = data / \"breast_filtered_tils_patient.pkl\"\n",
    "til_lung = data / \"lung_filtered_tils_patient.pkl\"\n",
    "if concat_breast.exists():\n",
    "    bdf = pd.read_pickle(concat_breast).reset_index()\n",
    "if concat_lung.exists():\n",
    "    ldf = pd.read_pickle(concat_lung).reset_index()\n",
    "if til_breast.exists():\n",
    "    filt_bdf = pd.read_csv(til_breast)\n",
    "if til_lung.exists():\n",
    "    filt_ldf = pd.read_csv(til_lung)"
   ]
  },
  {
   "cell_type": "code",
   "execution_count": null,
   "metadata": {},
   "outputs": [],
   "source": [
    "def print_value_counts(df, index_name, df_type, percentage=False):\n",
    "    vc = df[index_name].value_counts()\n",
    "    if percentage:\n",
    "        vc = (vc / len(df) * 100).round(1)\n",
    "        print(f\"This is the percentage for {df_type}\")\n",
    "    else:\n",
    "        print(f\"This is the value counts for {df_type}\\ntotal length: {len(df)}\")\n",
    "\n",
    "    headers = vc.index.tolist()\n",
    "    values = vc.tolist()\n",
    "    col_widths = int(max([max(len(str(h)), len(str(v))) for h, v in zip(headers, values)]))\n",
    "    vc = vc.sort_index()\n",
    "    he = [f\"{h:{col_widths}}\" for h in headers] \n",
    "    va = [f\"{v:{col_widths}}\" for v in values]\n",
    "    border = '_'*col_widths*(len(headers)+2)\n",
    "    print(f\"{border}\\n{\"\\t\".join(he)}\\n{\"\\t\".join(va)}\\n\\n\")\n",
    "\n",
    "print_value_counts(filt_ldf, \"level_0\", \"Filtered Lung\")\n",
    "print_value_counts(filt_ldf, \"level_0\", \"Filtered Lung\", percentage=True)\n",
    "print_value_counts(filt_bdf, \"level_0\", \"Filtered Breast\")\n",
    "print_value_counts(filt_bdf, \"level_0\", \"Filtered Breast\", percentage=True)\n",
    "print_value_counts(ldf, \"level_0\", \"Lung\")\n",
    "print_value_counts(ldf, \"level_0\", \"Lung\", percentage=True)\n",
    "print_value_counts(bdf, \"level_0\", \"Breast\")\n",
    "print_value_counts(bdf, \"level_0\", \"Breast\", percentage=True)"
   ]
  },
  {
   "cell_type": "code",
   "execution_count": null,
   "metadata": {},
   "outputs": [],
   "source": [
    "def col_df(colname: str,bdf: pd.DataFrame, ldf: pd.DataFrame) -> pd.DataFrame:\n",
    "    tmpb = bdf[colname].reset_index(drop=True).rename(\"Breast\")\n",
    "    tmpl = ldf[colname].reset_index(drop=True).rename(\"Lung\")\n",
    "    return pd.concat([tmpb, tmpl],axis=1)\n",
    "\n",
    "def convert_pvalue_to_asterisks(pvalue):\n",
    "    if pvalue <= 0.0001:\n",
    "        return \"****\"\n",
    "    elif pvalue <= 0.001:\n",
    "        return \"***\"\n",
    "    elif pvalue <= 0.01:\n",
    "        return \"**\"\n",
    "    elif pvalue <= 0.05:\n",
    "        return \"*\"\n",
    "    return \"ns\""
   ]
  },
  {
   "cell_type": "code",
   "execution_count": 1,
   "metadata": {},
   "outputs": [
    {
     "ename": "NameError",
     "evalue": "name 'pd' is not defined",
     "output_type": "error",
     "traceback": [
      "\u001b[0;31m---------------------------------------------------------------------------\u001b[0m",
      "\u001b[0;31mNameError\u001b[0m                                 Traceback (most recent call last)",
      "\u001b[1;32m/home/kradja/Documents/programming/probsolv/cima/src/graph.ipynb Cell 5\u001b[0m line \u001b[0;36m1\n\u001b[0;32m----> <a href='vscode-notebook-cell://ssh-remote%2Bhedy.ag.vt.edu/home/kradja/Documents/programming/probsolv/cima/src/graph.ipynb#W5sdnNjb2RlLXJlbW90ZQ%3D%3D?line=0'>1</a>\u001b[0m \u001b[39mdef\u001b[39;00m \u001b[39mbxplt\u001b[39m(input_ser: pd\u001b[39m.\u001b[39mSeries, title: \u001b[39mstr\u001b[39m):\n\u001b[1;32m      <a href='vscode-notebook-cell://ssh-remote%2Bhedy.ag.vt.edu/home/kradja/Documents/programming/probsolv/cima/src/graph.ipynb#W5sdnNjb2RlLXJlbW90ZQ%3D%3D?line=1'>2</a>\u001b[0m     ttest_res \u001b[39m=\u001b[39m ttest_ind(input_ser[\u001b[39m\"\u001b[39m\u001b[39mBreast\u001b[39m\u001b[39m\"\u001b[39m]\u001b[39m.\u001b[39mdropna(), input_ser[\u001b[39m\"\u001b[39m\u001b[39mLung\u001b[39m\u001b[39m\"\u001b[39m]\u001b[39m.\u001b[39mdropna())\n\u001b[1;32m      <a href='vscode-notebook-cell://ssh-remote%2Bhedy.ag.vt.edu/home/kradja/Documents/programming/probsolv/cima/src/graph.ipynb#W5sdnNjb2RlLXJlbW90ZQ%3D%3D?line=2'>3</a>\u001b[0m     \u001b[39mprint\u001b[39m(ttest_res\u001b[39m.\u001b[39mpvalue)\n",
      "\u001b[0;31mNameError\u001b[0m: name 'pd' is not defined"
     ]
    }
   ],
   "source": [
    "def bxplt(input_ser: pd.Series, title: str):\n",
    "    ttest_res = ttest_ind(input_ser[\"Breast\"].dropna(), input_ser[\"Lung\"].dropna())\n",
    "    print(ttest_res.pvalue)\n",
    "    plt.figure()\n",
    "    sns.boxplot(data=input_ser, showfliers=False, palette=\"Set3\")\n",
    "    if ttest_res.pvalue < 0.05:\n",
    "        plt.text(0.9,0.95,convert_pvalue_to_asterisks(ttest_res.pvalue), transform=plt.gca().transAxes)\n",
    "    plt.xlabel(\"All Cells\")\n",
    "    plt.title(title)\n",
    "    plt.show()\n",
    "    \n",
    "nucl_area = col_df(\"Nucleus: Area\", bdf,ldf)\n",
    "nucl_area_til = col_df(\"Nucleus: Area\", filt_bdf,filt_ldf)\n",
    "bxplt(nucl_area, \"Nucleus Area all cells\")\n",
    "bxplt(nucl_area_til, \"Nucleus Area TILs\")"
   ]
  },
  {
   "cell_type": "code",
   "execution_count": null,
   "metadata": {},
   "outputs": [],
   "source": [
    "plt.figure()\n",
    "plt.scatter(bdf[\"Nucleus: Area\"], bdf[\"Nucleus: Hematoxylin OD mean\"], color=\"grey\",alpha=0.4,s=0.8)\n",
    "plt.scatter(filt_bdf[\"Nucleus: Area\"], filt_bdf[\"Nucleus: Hematoxylin OD mean\"], color=\"blue\",alpha=0.4,s=0.9)\n",
    "plt.ylabel(\"Nucleus: Hematoxylin OD mean\")\n",
    "plt.xlabel(\"Nucleus: Area\")\n",
    "plt.legend([\"All breast cells\", \"Breast TILs\"], loc=\"upper right\")\n",
    "plt.show()"
   ]
  },
  {
   "cell_type": "code",
   "execution_count": null,
   "metadata": {},
   "outputs": [],
   "source": [
    "plt.figure()\n",
    "plt.scatter(ldf[\"Nucleus: Area\"], ldf[\"Nucleus: Hematoxylin OD mean\"],color=\"grey\",alpha=0.4,s=0.9)\n",
    "plt.scatter(filt_ldf[\"Nucleus: Area\"], filt_ldf[\"Nucleus: Hematoxylin OD mean\"], color=\"red\",alpha=0.4,s=0.9)\n",
    "plt.ylabel(\"Nucleus: Hematoxylin OD mean\")\n",
    "plt.xlabel(\"Nucleus: Area\")\n",
    "plt.legend([\"All lung cells\", \"Lung TILs\"])\n",
    "plt.show()"
   ]
  },
  {
   "cell_type": "code",
   "execution_count": null,
   "metadata": {},
   "outputs": [],
   "source": [
    "filt_bdf[\"Tissue\"] = \"Breast\"\n",
    "filt_ldf[\"Tissue\"] = \"Lung\"\n",
    "concat_tils = pd.concat([filt_bdf, filt_ldf], axis=0)\n",
    "cols_list = list(concat_tils.columns)"
   ]
  },
  {
   "cell_type": "code",
   "execution_count": null,
   "metadata": {},
   "outputs": [],
   "source": [
    "filt_bdf.head()"
   ]
  },
  {
   "cell_type": "code",
   "execution_count": null,
   "metadata": {},
   "outputs": [],
   "source": [
    "#concat_tils[cols_list[7:-1]].head()\n",
    "ctils = concat_tils[cols_list[7:-1]].reset_index().drop(\"level_1\", axis=1).rename(columns={\"level_0\": \"Patient\"})\n",
    "ctils_shape = ctils[[\"Patient\"] + cols_list[7:15]]\n",
    "ctils_hema = ctils[[\"Patient\"] + cols_list[15:21]]\n",
    "ctils_eosin = ctils[[\"Patient\"] + cols_list[21:27]]"
   ]
  },
  {
   "cell_type": "code",
   "execution_count": null,
   "metadata": {},
   "outputs": [],
   "source": [
    "def umap_embedding(input_df: pd.DataFrame) -> pd.DataFrame:\n",
    "    patient_types = set(input_df.Patient)\n",
    "    scaled_tils= StandardScaler().fit_transform(input_df.drop(\"Patient\", axis=1))\n",
    "    reducer = umap.UMAP()\n",
    "    embedding = reducer.fit_transform(scaled_tils)\n",
    "    breast_embeds = [(x , embedding[input_df.Patient == x]) for x in patient_types if \"BRCA\" in x]\n",
    "    lung_embeds = [(x , embedding[input_df.Patient == x]) for x in patient_types if \"LUAD\" in x]\n",
    "    return breast_embeds, lung_embeds\n",
    "\n",
    "ctils_shape_drop1 = ctils_shape[ctils_shape.Patient != \"LUAD-1\"]\n",
    "breast_embed_sdrop1, lung_embed_sdrop1 = umap_embedding(ctils_shape_drop1)\n",
    "breast_embed_shape, lung_embed_shape = umap_embedding(ctils_shape)\n",
    "breast_embed_hema, lung_embed_hema = umap_embedding(ctils_hema)\n",
    "breast_embed_eosin, lung_embed_eosin = umap_embedding(ctils_eosin)\n"
   ]
  },
  {
   "cell_type": "code",
   "execution_count": null,
   "metadata": {},
   "outputs": [],
   "source": [
    "breast_embed, lung_embed = umap_embedding(ctils)\n",
    "all_breast_embed, all_lung_embed = umap_embedding()"
   ]
  },
  {
   "cell_type": "code",
   "execution_count": null,
   "metadata": {},
   "outputs": [],
   "source": [
    "def plot_scatter(breast_embeds, lung_embeds, title_str,lung_only=False, breast_only=False):\n",
    "    blue4 = sns.color_palette(\"Blues\", 5)\n",
    "    red4 = sns.color_palette(\"Reds\", 5)\n",
    "    hls = sns.color_palette(\"hls\", 10)\n",
    "    plt.figure()\n",
    "    if not lung_only:\n",
    "        [ sns.scatterplot(x=x[1][:,0], y=x[1][:,1], alpha=0.9,color = blue4[i], label=x[0]) for i,x in enumerate(breast_embeds) ]\n",
    "    if not breast_only:\n",
    "        [ sns.scatterplot(x=x[1][:,0], y=x[1][:,1], alpha=0.9,color = red4[i], label=x[0]) for i,x in enumerate(lung_embeds) ]\n",
    "    plt.gca().set_aspect('equal', 'datalim')\n",
    "    plt.legend()\n",
    "    plt.title(title_str)\n",
    "    plt.show()\n",
    "    plt.close()\n",
    "\n",
    "plot_scatter(breast_embed_shape, lung_embed_shape, \"UMAP projection of TILs based only on Shape Features\")\n",
    "plot_scatter(breast_embed_shape, lung_embed_shape, \"UMAP projection of Lung TILs based only on Shape Features\", lung_only=True)\n",
    "plot_scatter(breast_embed_shape, lung_embed_shape, \"UMAP projection of Breast TILs based only on Shape Features\", breast_only=True)"
   ]
  },
  {
   "cell_type": "code",
   "execution_count": null,
   "metadata": {},
   "outputs": [],
   "source": [
    "plot_scatter(breast_embed_hema, lung_embed_hema, \"UMAP projection of TILs based only on Hematoxylin Features\")\n",
    "plot_scatter(breast_embed_eosin, lung_embed_eosin, \"UMAP projection of TILs based only on Eosin Features\")\n",
    "plot_scatter(breast_embed_sdrop1, lung_embed_sdrop1, \"UMAP projection of TILs based only on Shape Features without LUAD-1\")"
   ]
  },
  {
   "cell_type": "code",
   "execution_count": null,
   "metadata": {},
   "outputs": [],
   "source": [
    "plot_scatter(breast_embed, lung_embed, \"UMAP projection of TILs based on all features\")\n",
    "plot_scatter(all_breast_embed, all_lung_embed, \"UMAP projection of all cells based on all features\")"
   ]
  },
  {
   "cell_type": "code",
   "execution_count": null,
   "metadata": {},
   "outputs": [],
   "source": [
    "ctils.head()"
   ]
  },
  {
   "cell_type": "code",
   "execution_count": null,
   "metadata": {},
   "outputs": [],
   "source": [
    "from sklearn.svm import OneClassSVM\n",
    "def onesvm(input_df):\n",
    "    scaled_tils= StandardScaler().fit_transform(input_df.drop(\"Patient\", axis=1))\n",
    "    model = OneClassSVM(nu=0.1, kernel='rbf', gamma='scale')\n",
    "    model.fit(scaled_tils)\n",
    "    outliers = model.predict(scaled_tils)\n",
    "    return outliers\n",
    "breast_total = ctils[ctils.Patient.str.contains(\"BRCA\")]\n",
    "lung_total = ctils[ctils.Patient.str.contains(\"LUAD\")]\n",
    "breast_outliers = onesvm(breast_total)\n",
    "lung_outliers = onesvm(lung_total)"
   ]
  },
  {
   "cell_type": "code",
   "execution_count": null,
   "metadata": {},
   "outputs": [],
   "source": [
    "bt_svm = breast_total.Patient[breast_outliers == -1].value_counts()\n",
    "lt_svm = lung_total.Patient[lung_outliers == -1].value_counts()\n",
    "#print(bt_svm)\n",
    "#print(bt_svm / len(breast_total) * 100)\n",
    "#print(f\"Percentage of outliers {len(np.where(breast_outliers == -1)[0]) / len(breast_outliers) * 100}\")\n",
    "print(lt_svm)\n",
    "print(lt_svm / len(lung_total) * 100)\n",
    "print(f\"Percentage of outliers {len(np.where(lung_outliers == -1)[0]) / len(lung_outliers) * 100}\")"
   ]
  },
  {
   "cell_type": "code",
   "execution_count": null,
   "metadata": {},
   "outputs": [],
   "source": [
    "breast_total.shape"
   ]
  },
  {
   "cell_type": "code",
   "execution_count": null,
   "metadata": {},
   "outputs": [],
   "source": [
    "\n",
    "ranksums(filt_bdf[\"Nucleus: Area\"], filt_ldf[\"Nucleus: Area\"])"
   ]
  }
 ],
 "metadata": {
  "kernelspec": {
   "display_name": "prefect3",
   "language": "python",
   "name": "python3"
  },
  "language_info": {
   "codemirror_mode": {
    "name": "ipython",
    "version": 3
   },
   "file_extension": ".py",
   "mimetype": "text/x-python",
   "name": "python",
   "nbconvert_exporter": "python",
   "pygments_lexer": "ipython3",
   "version": "3.12.0"
  }
 },
 "nbformat": 4,
 "nbformat_minor": 2
}
